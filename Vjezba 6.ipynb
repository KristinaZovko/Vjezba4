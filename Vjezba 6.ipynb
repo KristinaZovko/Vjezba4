{
 "cells": [
  {
   "cell_type": "code",
   "execution_count": 4,
   "metadata": {},
   "outputs": [],
   "source": [
    "# Zaštitno kodiranje - Javni ključ"
   ]
  },
  {
   "cell_type": "code",
   "execution_count": 2,
   "metadata": {},
   "outputs": [],
   "source": [
    "import math"
   ]
  },
  {
   "cell_type": "code",
   "execution_count": 3,
   "metadata": {},
   "outputs": [
    {
     ]
    }
   ],
   "source": [
    "for d in range(1, 1000):\n",
    "        if(((7*d) % 60 ) == 1):\n",
    "            print(d)"
   ]
  }
 ],
 "metadata": {
  "kernelspec": {
   "display_name": "Python 3.10.7 64-bit",
   "language": "python",
   "name": "python3"
  },
  "language_info": {
   "codemirror_mode": {
    "name": "ipython",
    "version": 3
   },
   "file_extension": ".py",
   "mimetype": "text/x-python",
   "name": "python",
   "nbconvert_exporter": "python",
   "pygments_lexer": "ipython3",
   "version": "3.10.7"
  },
  "orig_nbformat": 4,
  "vscode": {
   "interpreter": {
    "hash": "5a36513f412afdeddc38b9c575c40b93e63b8480e65e63aae78c9ff9a3d29bf5"
   }
  }
 },
 "nbformat": 4,
 "nbformat_minor": 2
}
